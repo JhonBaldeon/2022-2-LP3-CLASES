{
 "cells": [
  {
   "cell_type": "markdown",
   "id": "de31b091",
   "metadata": {},
   "source": [
    "# Semana 05\n",
    "Baldeon Figueroa Jhon"
   ]
  },
  {
   "cell_type": "raw",
   "id": "fcde2a3b",
   "metadata": {},
   "source": [
    "Temas:\n",
    "    1. Coleccion de datos\n",
    "    2. Estructuras decisivas y estructuras repititivas\n",
    "    3. Clases y Objetos\n",
    "    4. Funciones"
   ]
  },
  {
   "cell_type": "code",
   "execution_count": 1,
   "id": "1e8d1da6",
   "metadata": {},
   "outputs": [
    {
     "name": "stdout",
     "output_type": "stream",
     "text": [
      "['Huaman', 'Pineda', 'Luque', 'Cachay']\n"
     ]
    }
   ],
   "source": [
    "#Listas\n",
    "aula=['Huaman','Pineda','Luque','Cachay']\n",
    "print(aula)"
   ]
  },
  {
   "cell_type": "code",
   "execution_count": 2,
   "id": "055b41a3",
   "metadata": {},
   "outputs": [
    {
     "name": "stdout",
     "output_type": "stream",
     "text": [
      "Huaman\n",
      "Pineda\n"
     ]
    }
   ],
   "source": [
    "print(aula[0])\n",
    "print(aula[1])"
   ]
  },
  {
   "cell_type": "code",
   "execution_count": 3,
   "id": "97ed8668",
   "metadata": {},
   "outputs": [
    {
     "data": {
      "text/plain": [
       "'soto'"
      ]
     },
     "execution_count": 3,
     "metadata": {},
     "output_type": "execute_result"
    }
   ],
   "source": [
    "aula[1]='soto'\n",
    "aula[1]"
   ]
  },
  {
   "cell_type": "code",
   "execution_count": 4,
   "id": "7af15b3e",
   "metadata": {},
   "outputs": [
    {
     "data": {
      "text/plain": [
       "['Huaman', 'soto', 'Luque', 'Cachay']"
      ]
     },
     "execution_count": 4,
     "metadata": {},
     "output_type": "execute_result"
    }
   ],
   "source": [
    "aula"
   ]
  },
  {
   "cell_type": "code",
   "execution_count": 5,
   "id": "19fc6b2d",
   "metadata": {},
   "outputs": [],
   "source": [
    "#Agregar elementos\n",
    "aula.append(\"LLanos\")\n",
    "aula.append(\"Luque\")"
   ]
  },
  {
   "cell_type": "code",
   "execution_count": 6,
   "id": "3d89216e",
   "metadata": {},
   "outputs": [
    {
     "data": {
      "text/plain": [
       "['Huaman', 'soto', 'Luque', 'Cachay', 'LLanos', 'Luque']"
      ]
     },
     "execution_count": 6,
     "metadata": {},
     "output_type": "execute_result"
    }
   ],
   "source": [
    "aula"
   ]
  },
  {
   "cell_type": "code",
   "execution_count": 7,
   "id": "9392b2aa",
   "metadata": {},
   "outputs": [],
   "source": [
    "#Eliminar elementos\n",
    "aula.remove(\"Huaman\")"
   ]
  },
  {
   "cell_type": "code",
   "execution_count": 8,
   "id": "d409378a",
   "metadata": {},
   "outputs": [
    {
     "data": {
      "text/plain": [
       "['soto', 'Luque', 'Cachay', 'LLanos', 'Luque']"
      ]
     },
     "execution_count": 8,
     "metadata": {},
     "output_type": "execute_result"
    }
   ],
   "source": [
    "aula"
   ]
  },
  {
   "cell_type": "code",
   "execution_count": 9,
   "id": "91082695",
   "metadata": {},
   "outputs": [],
   "source": [
    "#coincidencias elimina de izquierda\n",
    "aula.remove(\"Luque\")"
   ]
  },
  {
   "cell_type": "code",
   "execution_count": 10,
   "id": "fd4217ad",
   "metadata": {},
   "outputs": [
    {
     "data": {
      "text/plain": [
       "['soto', 'Cachay', 'LLanos', 'Luque']"
      ]
     },
     "execution_count": 10,
     "metadata": {},
     "output_type": "execute_result"
    }
   ],
   "source": [
    "aula"
   ]
  },
  {
   "cell_type": "code",
   "execution_count": 13,
   "id": "e467492b",
   "metadata": {},
   "outputs": [
    {
     "data": {
      "text/plain": [
       "4"
      ]
     },
     "execution_count": 13,
     "metadata": {},
     "output_type": "execute_result"
    }
   ],
   "source": [
    "#para obtener el tamaño se utiliza Len()\n",
    "len(aula)"
   ]
  },
  {
   "cell_type": "code",
   "execution_count": 15,
   "id": "c4998aff",
   "metadata": {},
   "outputs": [
    {
     "name": "stdout",
     "output_type": "stream",
     "text": [
      "soto\n",
      "Cachay\n",
      "LLanos\n",
      "Luque\n"
     ]
    }
   ],
   "source": [
    "for alumno in aula:\n",
    "    print(alumno)"
   ]
  },
  {
   "cell_type": "code",
   "execution_count": 16,
   "id": "78bfcced",
   "metadata": {},
   "outputs": [
    {
     "data": {
      "text/plain": [
       "['Luque', 'LLanos', 'Cachay', 'soto']"
      ]
     },
     "execution_count": 16,
     "metadata": {},
     "output_type": "execute_result"
    }
   ],
   "source": [
    "#Invertir la lista\n",
    "aula.reverse()\n",
    "aula"
   ]
  },
  {
   "cell_type": "code",
   "execution_count": 17,
   "id": "e2a2863c",
   "metadata": {},
   "outputs": [
    {
     "data": {
      "text/plain": [
       "['Cachay', 'LLanos', 'Luque', 'soto']"
      ]
     },
     "execution_count": 17,
     "metadata": {},
     "output_type": "execute_result"
    }
   ],
   "source": [
    "#Para ordenar la lista\n",
    "aula.sort()\n",
    "aula"
   ]
  },
  {
   "cell_type": "code",
   "execution_count": 18,
   "id": "8cf97e9f",
   "metadata": {},
   "outputs": [],
   "source": [
    "tupla_aula=('Huaman','Pineda','Luque','Cachay')"
   ]
  },
  {
   "cell_type": "code",
   "execution_count": 19,
   "id": "d7d68dbf",
   "metadata": {},
   "outputs": [
    {
     "data": {
      "text/plain": [
       "('Huaman', 'Pineda', 'Luque', 'Cachay')"
      ]
     },
     "execution_count": 19,
     "metadata": {},
     "output_type": "execute_result"
    }
   ],
   "source": [
    "tupla_aula"
   ]
  },
  {
   "cell_type": "code",
   "execution_count": 20,
   "id": "27cf1f28",
   "metadata": {},
   "outputs": [
    {
     "name": "stdout",
     "output_type": "stream",
     "text": [
      "Huaman\n",
      "Pineda\n",
      "Luque\n",
      "Cachay\n"
     ]
    }
   ],
   "source": [
    "for alumno in tupla_aula:\n",
    "    print(alumno)"
   ]
  },
  {
   "cell_type": "code",
   "execution_count": 21,
   "id": "40229560",
   "metadata": {},
   "outputs": [
    {
     "data": {
      "text/plain": [
       "'Luque'"
      ]
     },
     "execution_count": 21,
     "metadata": {},
     "output_type": "execute_result"
    }
   ],
   "source": [
    "tupla_aula[2]"
   ]
  },
  {
   "cell_type": "code",
   "execution_count": 22,
   "id": "1e2256e0",
   "metadata": {},
   "outputs": [
    {
     "data": {
      "text/plain": [
       "4"
      ]
     },
     "execution_count": 22,
     "metadata": {},
     "output_type": "execute_result"
    }
   ],
   "source": [
    "len(tupla_aula)"
   ]
  },
  {
   "cell_type": "code",
   "execution_count": 23,
   "id": "88517a0d",
   "metadata": {},
   "outputs": [
    {
     "data": {
      "text/plain": [
       "{'Cachay', 'Huaman', 'Luque', 'Pineda'}"
      ]
     },
     "execution_count": 23,
     "metadata": {},
     "output_type": "execute_result"
    }
   ],
   "source": [
    "conjunto_aula = {'Huaman','Pineda','Luque','Cachay'}\n",
    "conjunto_aula"
   ]
  },
  {
   "cell_type": "code",
   "execution_count": 24,
   "id": "d784033d",
   "metadata": {},
   "outputs": [
    {
     "name": "stdout",
     "output_type": "stream",
     "text": [
      "Cachay\n",
      "Huaman\n",
      "Luque\n",
      "Pineda\n"
     ]
    }
   ],
   "source": [
    "for alumno in conjunto_aula:\n",
    "    print(alumno)"
   ]
  },
  {
   "cell_type": "code",
   "execution_count": 25,
   "id": "bb795cb9",
   "metadata": {},
   "outputs": [],
   "source": [
    "#No se puede acceder por posiciones\n",
    "#conjunto_aula[2]"
   ]
  },
  {
   "cell_type": "code",
   "execution_count": 26,
   "id": "ca26cd97",
   "metadata": {},
   "outputs": [
    {
     "data": {
      "text/plain": [
       "4"
      ]
     },
     "execution_count": 26,
     "metadata": {},
     "output_type": "execute_result"
    }
   ],
   "source": [
    "len(conjunto_aula)"
   ]
  },
  {
   "cell_type": "code",
   "execution_count": 27,
   "id": "36aef93d",
   "metadata": {},
   "outputs": [
    {
     "data": {
      "text/plain": [
       "{'Baldeon', 'Cachay', 'Huaman', 'Luque', 'Pineda'}"
      ]
     },
     "execution_count": 27,
     "metadata": {},
     "output_type": "execute_result"
    }
   ],
   "source": [
    "#Para agregar utilizamos la funcion add()\n",
    "conjunto_aula.add(\"Baldeon\")\n",
    "conjunto_aula"
   ]
  },
  {
   "cell_type": "code",
   "execution_count": 28,
   "id": "11ad6298",
   "metadata": {},
   "outputs": [
    {
     "data": {
      "text/plain": [
       "{'Baldeon', 'Huaman', 'Luque', 'Pineda'}"
      ]
     },
     "execution_count": 28,
     "metadata": {},
     "output_type": "execute_result"
    }
   ],
   "source": [
    "conjunto_aula.remove(\"Cachay\")\n",
    "conjunto_aula"
   ]
  },
  {
   "cell_type": "code",
   "execution_count": 30,
   "id": "36a5ea3a",
   "metadata": {},
   "outputs": [
    {
     "data": {
      "text/plain": [
       "{2: 'Baldeon', '1': 'Cachay', 'dos': 'Huaman', '3': 'Luque', '0': 'Pineda'}"
      ]
     },
     "execution_count": 30,
     "metadata": {},
     "output_type": "execute_result"
    }
   ],
   "source": [
    "#Diccionarios\n",
    "diccionario_aula = {2:'Baldeon','1':'Cachay','dos':'Huaman','3':'Luque','0': 'Pineda'}\n",
    "diccionario_aula"
   ]
  },
  {
   "cell_type": "code",
   "execution_count": 32,
   "id": "3b7c1258",
   "metadata": {},
   "outputs": [
    {
     "data": {
      "text/plain": [
       "'Pineda'"
      ]
     },
     "execution_count": 32,
     "metadata": {},
     "output_type": "execute_result"
    }
   ],
   "source": [
    "diccionario_aula['0']"
   ]
  },
  {
   "cell_type": "code",
   "execution_count": 34,
   "id": "94c4796f",
   "metadata": {},
   "outputs": [
    {
     "data": {
      "text/plain": [
       "'Baldeon'"
      ]
     },
     "execution_count": 34,
     "metadata": {},
     "output_type": "execute_result"
    }
   ],
   "source": [
    "diccionario_aula[2]"
   ]
  },
  {
   "cell_type": "code",
   "execution_count": 35,
   "id": "6b9b53fa",
   "metadata": {},
   "outputs": [
    {
     "data": {
      "text/plain": [
       "'Huaman'"
      ]
     },
     "execution_count": 35,
     "metadata": {},
     "output_type": "execute_result"
    }
   ],
   "source": [
    "diccionario_aula['dos']"
   ]
  },
  {
   "cell_type": "code",
   "execution_count": 36,
   "id": "eb1d73f0",
   "metadata": {},
   "outputs": [],
   "source": [
    "#Para añadir un par de elemetnos al diccionario hacemos:\n",
    "diccionario_aula['20']=\"Prado\""
   ]
  },
  {
   "cell_type": "code",
   "execution_count": 37,
   "id": "568ddcc3",
   "metadata": {},
   "outputs": [
    {
     "data": {
      "text/plain": [
       "{2: 'Baldeon',\n",
       " '1': 'Cachay',\n",
       " 'dos': 'Huaman',\n",
       " '3': 'Luque',\n",
       " '0': 'Pineda',\n",
       " '20': 'Prado'}"
      ]
     },
     "execution_count": 37,
     "metadata": {},
     "output_type": "execute_result"
    }
   ],
   "source": [
    "diccionario_aula"
   ]
  },
  {
   "cell_type": "code",
   "execution_count": 38,
   "id": "385294d0",
   "metadata": {},
   "outputs": [
    {
     "data": {
      "text/plain": [
       "{'1': 'Cachay', 'dos': 'Huaman', '3': 'Luque', '0': 'Pineda', '20': 'Prado'}"
      ]
     },
     "execution_count": 38,
     "metadata": {},
     "output_type": "execute_result"
    }
   ],
   "source": [
    "#Para eliminar\n",
    "diccionario_aula.pop(2)\n",
    "diccionario_aula"
   ]
  },
  {
   "cell_type": "code",
   "execution_count": 39,
   "id": "1e1361f4",
   "metadata": {},
   "outputs": [
    {
     "name": "stdout",
     "output_type": "stream",
     "text": [
      "1\n",
      "dos\n",
      "3\n",
      "0\n",
      "20\n"
     ]
    }
   ],
   "source": [
    "#Para recorrer todos los elmentos\n",
    "for indice in diccionario_aula:\n",
    "    print(indice)"
   ]
  },
  {
   "cell_type": "code",
   "execution_count": 41,
   "id": "cfc23914",
   "metadata": {},
   "outputs": [
    {
     "name": "stdout",
     "output_type": "stream",
     "text": [
      "1 Cachay\n",
      "dos Huaman\n",
      "3 Luque\n",
      "0 Pineda\n",
      "20 Prado\n"
     ]
    }
   ],
   "source": [
    "#Para obtener el indice y el valor\n",
    "for indice, valor in diccionario_aula.items():\n",
    "    print(indice, valor)"
   ]
  },
  {
   "cell_type": "code",
   "execution_count": 43,
   "id": "7f742e73",
   "metadata": {},
   "outputs": [],
   "source": [
    "#Ejercicio\n",
    "#Dado una lista\n",
    "aula = ['AQUINO', 'ARCOS', 'BALDEON', 'BARZOLA', 'BELLO', 'CACHAY', 'CARRASCO', 'CIRIACO', 'DELGADO', 'GAYOSO', 'GONZALES', 'GRANADOS', 'HUAMAN', 'LLANOS','LUQUE', 'PINEDA', 'PRADO', 'QUIJAHUAMAN', 'QUISPE' ,'RAKAUSKAS', 'RAMOS', 'ROJAS', 'SOTO','ZARATE']\n",
    "#Diseñar un código que muestre el apellido de un estudiante ingresado por el teclado, forme parte de la lista."
   ]
  },
  {
   "cell_type": "code",
   "execution_count": 44,
   "id": "267e938f",
   "metadata": {},
   "outputs": [
    {
     "data": {
      "text/plain": [
       "['AQUINO',\n",
       " 'ARCOS',\n",
       " 'BALDEON',\n",
       " 'BARZOLA',\n",
       " 'BELLO',\n",
       " 'CACHAY',\n",
       " 'CARRASCO',\n",
       " 'CIRIACO',\n",
       " 'DELGADO',\n",
       " 'GAYOSO',\n",
       " 'GONZALES',\n",
       " 'GRANADOS',\n",
       " 'HUAMAN',\n",
       " 'LLANOS',\n",
       " 'LUQUE',\n",
       " 'PINEDA',\n",
       " 'PRADO',\n",
       " 'QUIJAHUAMAN',\n",
       " 'QUISPE',\n",
       " 'RAKAUSKAS',\n",
       " 'RAMOS',\n",
       " 'ROJAS',\n",
       " 'SOTO',\n",
       " 'ZARATE']"
      ]
     },
     "execution_count": 44,
     "metadata": {},
     "output_type": "execute_result"
    }
   ],
   "source": [
    "aula"
   ]
  },
  {
   "cell_type": "code",
   "execution_count": 45,
   "id": "5859bb32",
   "metadata": {},
   "outputs": [
    {
     "ename": "SyntaxError",
     "evalue": "invalid syntax (175473523.py, line 3)",
     "output_type": "error",
     "traceback": [
      "\u001b[1;36m  Input \u001b[1;32mIn [45]\u001b[1;36m\u001b[0m\n\u001b[1;33m    for alum in aula\u001b[0m\n\u001b[1;37m                    ^\u001b[0m\n\u001b[1;31mSyntaxError\u001b[0m\u001b[1;31m:\u001b[0m invalid syntax\n"
     ]
    }
   ],
   "source": [
    "print(\"Ingrese la posición del alumno a mostrarse\")\n",
    "alum = input()\n",
    "for alum in aula\n",
    "print(alum)"
   ]
  },
  {
   "cell_type": "code",
   "execution_count": null,
   "id": "774ea3df",
   "metadata": {},
   "outputs": [],
   "source": []
  }
 ],
 "metadata": {
  "kernelspec": {
   "display_name": "Python 3 (ipykernel)",
   "language": "python",
   "name": "python3"
  },
  "language_info": {
   "codemirror_mode": {
    "name": "ipython",
    "version": 3
   },
   "file_extension": ".py",
   "mimetype": "text/x-python",
   "name": "python",
   "nbconvert_exporter": "python",
   "pygments_lexer": "ipython3",
   "version": "3.9.12"
  }
 },
 "nbformat": 4,
 "nbformat_minor": 5
}
