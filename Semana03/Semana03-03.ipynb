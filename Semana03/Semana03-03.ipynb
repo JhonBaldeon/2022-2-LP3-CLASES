{
 "cells": [
  {
   "cell_type": "markdown",
   "id": "cfb15f44",
   "metadata": {},
   "source": [
    "# Semana 03\n",
    "Baldeon Figueroa Jhon"
   ]
  },
  {
   "cell_type": "markdown",
   "id": "03d4125c",
   "metadata": {},
   "source": [
    "# Temas: 1. Números \n",
    "    2. Variables \n",
    "    3. Manejo de cadenas \n",
    "    4. Ingreso de datos por el teclado \n",
    "    5. Operadores"
   ]
  },
  {
   "cell_type": "markdown",
   "id": "b39af369",
   "metadata": {},
   "source": [
    "3. Manejo de cadenas"
   ]
  },
  {
   "cell_type": "code",
   "execution_count": 1,
   "id": "55e48b8b",
   "metadata": {},
   "outputs": [
    {
     "data": {
      "text/plain": [
       "'Universidad Nacional Tecnológica de Lima Sur'"
      ]
     },
     "execution_count": 1,
     "metadata": {},
     "output_type": "execute_result"
    }
   ],
   "source": [
    "cadena = \"Universidad Nacional Tecnológica de Lima Sur\"\n",
    "cadena"
   ]
  },
  {
   "cell_type": "code",
   "execution_count": 2,
   "id": "1033c66d",
   "metadata": {},
   "outputs": [],
   "source": [
    "#Universidad Nacional Tecnológica de Lima Sur\n",
    "#01234....................................-2-1"
   ]
  },
  {
   "cell_type": "code",
   "execution_count": 3,
   "id": "87d1f584",
   "metadata": {},
   "outputs": [
    {
     "data": {
      "text/plain": [
       "'r'"
      ]
     },
     "execution_count": 3,
     "metadata": {},
     "output_type": "execute_result"
    }
   ],
   "source": [
    "cadena[5]"
   ]
  },
  {
   "cell_type": "code",
   "execution_count": 4,
   "id": "821f161b",
   "metadata": {},
   "outputs": [
    {
     "data": {
      "text/plain": [
       "'d'"
      ]
     },
     "execution_count": 4,
     "metadata": {},
     "output_type": "execute_result"
    }
   ],
   "source": [
    "cadena[10]"
   ]
  },
  {
   "cell_type": "code",
   "execution_count": 5,
   "id": "d503aa6f",
   "metadata": {},
   "outputs": [
    {
     "data": {
      "text/plain": [
       "' '"
      ]
     },
     "execution_count": 5,
     "metadata": {},
     "output_type": "execute_result"
    }
   ],
   "source": [
    "#considera los espacios en blanco\n",
    "cadena[11]"
   ]
  },
  {
   "cell_type": "code",
   "execution_count": 6,
   "id": "dca30a3a",
   "metadata": {},
   "outputs": [
    {
     "data": {
      "text/plain": [
       "'a'"
      ]
     },
     "execution_count": 6,
     "metadata": {},
     "output_type": "execute_result"
    }
   ],
   "source": [
    "#Muestrame la posición -5\n",
    "cadena[-5]"
   ]
  },
  {
   "cell_type": "code",
   "execution_count": 7,
   "id": "84f6c142",
   "metadata": {},
   "outputs": [
    {
     "data": {
      "text/plain": [
       "'T'"
      ]
     },
     "execution_count": 7,
     "metadata": {},
     "output_type": "execute_result"
    }
   ],
   "source": [
    "cadena[21]"
   ]
  },
  {
   "cell_type": "code",
   "execution_count": 8,
   "id": "f15bce5a",
   "metadata": {},
   "outputs": [
    {
     "data": {
      "text/plain": [
       "'T'"
      ]
     },
     "execution_count": 8,
     "metadata": {},
     "output_type": "execute_result"
    }
   ],
   "source": [
    "cadena[-23]"
   ]
  },
  {
   "cell_type": "code",
   "execution_count": 9,
   "id": "0a34f170",
   "metadata": {},
   "outputs": [
    {
     "data": {
      "text/plain": [
       "'versi'"
      ]
     },
     "execution_count": 9,
     "metadata": {},
     "output_type": "execute_result"
    }
   ],
   "source": [
    "cadena[3:8]"
   ]
  },
  {
   "cell_type": "code",
   "execution_count": 10,
   "id": "b6b441e3",
   "metadata": {},
   "outputs": [],
   "source": [
    "#Para saber le tamaño de la cadena, utilizamos len()\n",
    "#incluye los espacios en  blanco"
   ]
  },
  {
   "cell_type": "code",
   "execution_count": 11,
   "id": "42833d6d",
   "metadata": {},
   "outputs": [
    {
     "data": {
      "text/plain": [
       "44"
      ]
     },
     "execution_count": 11,
     "metadata": {},
     "output_type": "execute_result"
    }
   ],
   "source": [
    "len(cadena)"
   ]
  },
  {
   "cell_type": "code",
   "execution_count": 12,
   "id": "3793570a",
   "metadata": {},
   "outputs": [
    {
     "data": {
      "text/plain": [
       "'UNIVERSIDAD NACIONAL TECNOLÓGICA DE LIMA SUR'"
      ]
     },
     "execution_count": 12,
     "metadata": {},
     "output_type": "execute_result"
    }
   ],
   "source": [
    "#Para mostrar una cadena en mayuscula\n",
    "cadena.upper()"
   ]
  },
  {
   "cell_type": "code",
   "execution_count": 13,
   "id": "6d58f681",
   "metadata": {},
   "outputs": [
    {
     "data": {
      "text/plain": [
       "'Universidad Nacional Tecnológica de Lima Sur'"
      ]
     },
     "execution_count": 13,
     "metadata": {},
     "output_type": "execute_result"
    }
   ],
   "source": [
    "cadena"
   ]
  },
  {
   "cell_type": "code",
   "execution_count": 14,
   "id": "36f1c2c6",
   "metadata": {},
   "outputs": [
    {
     "data": {
      "text/plain": [
       "'UNIVERSIDAD NACIONAL TECNOLÓGICA DE LIMA SUR'"
      ]
     },
     "execution_count": 14,
     "metadata": {},
     "output_type": "execute_result"
    }
   ],
   "source": [
    "cadena = cadena.upper()\n",
    "cadena"
   ]
  },
  {
   "cell_type": "code",
   "execution_count": 15,
   "id": "fd522d86",
   "metadata": {},
   "outputs": [
    {
     "data": {
      "text/plain": [
       "'universidad nacional tecnológica de lima sur'"
      ]
     },
     "execution_count": 15,
     "metadata": {},
     "output_type": "execute_result"
    }
   ],
   "source": [
    "cadena.lower()"
   ]
  },
  {
   "cell_type": "code",
   "execution_count": 16,
   "id": "c31e783a",
   "metadata": {},
   "outputs": [
    {
     "data": {
      "text/plain": [
       "['UNIVERSIDAD', 'NACIONAL', 'TECNOLÓGICA', 'DE', 'LIMA', 'SUR']"
      ]
     },
     "execution_count": 16,
     "metadata": {},
     "output_type": "execute_result"
    }
   ],
   "source": [
    "cadena.split()"
   ]
  },
  {
   "cell_type": "code",
   "execution_count": 17,
   "id": "30abe9e3",
   "metadata": {},
   "outputs": [
    {
     "data": {
      "text/plain": [
       "['UNIVERSID', 'D N', 'CION', 'L TECNOLÓGIC', ' DE LIM', ' SUR']"
      ]
     },
     "execution_count": 17,
     "metadata": {},
     "output_type": "execute_result"
    }
   ],
   "source": [
    "cadena.split(\"A\")"
   ]
  },
  {
   "cell_type": "code",
   "execution_count": 18,
   "id": "d9a6c61e",
   "metadata": {},
   "outputs": [
    {
     "data": {
      "text/plain": [
       "['UNIVERSIDAD NACI', 'NAL TECN', 'LÓGICA DE LIMA SUR']"
      ]
     },
     "execution_count": 18,
     "metadata": {},
     "output_type": "execute_result"
    }
   ],
   "source": [
    "cadena.split(\"O\")"
   ]
  },
  {
   "cell_type": "code",
   "execution_count": 20,
   "id": "e374a0df",
   "metadata": {},
   "outputs": [
    {
     "name": "stdout",
     "output_type": "stream",
     "text": [
      "Buenas tardes Jhon Baldeon\n"
     ]
    }
   ],
   "source": [
    "#forma clásica para concatenar con +\n",
    "nombre = \"Jhon Baldeon\"\n",
    "print(\"Buenas tardes \" + nombre)"
   ]
  },
  {
   "cell_type": "code",
   "execution_count": 21,
   "id": "22e748e1",
   "metadata": {},
   "outputs": [
    {
     "name": "stdout",
     "output_type": "stream",
     "text": [
      "Hola Carlos Aquino ya se que tienes 22 años\n"
     ]
    }
   ],
   "source": [
    "#utilizamos el format()\n",
    "nombre = \"Carlos Aquino\"\n",
    "edad = 22\n",
    "print(\"Hola {} ya se que tienes {} años\".format(nombre,edad))"
   ]
  },
  {
   "cell_type": "code",
   "execution_count": 23,
   "id": "dc13f582",
   "metadata": {},
   "outputs": [
    {
     "name": "stdout",
     "output_type": "stream",
     "text": [
      "10/3 es = 3.3333333333333335\n",
      "10/3 es = 3.333\n"
     ]
    }
   ],
   "source": [
    "resultado = 10/3\n",
    "print(\"10/3 es = {}\".format(resultado))\n",
    "print(\"10/3 es = {r:1.3f}\".format(r=resultado))"
   ]
  },
  {
   "cell_type": "code",
   "execution_count": 24,
   "id": "d48d285f",
   "metadata": {},
   "outputs": [],
   "source": [
    "#Dar formato con f\n",
    "#La funcion f, esta disponible a partir de la versión 3.6"
   ]
  },
  {
   "cell_type": "code",
   "execution_count": 26,
   "id": "02e21ba8",
   "metadata": {
    "scrolled": true
   },
   "outputs": [
    {
     "name": "stdout",
     "output_type": "stream",
     "text": [
      "Buenos Días Jhon Baldeon, ya sé que tienes 23 años\n"
     ]
    }
   ],
   "source": [
    "nombre = \"Jhon Baldeon\"\n",
    "edad = 23\n",
    "print(f\"Buenos Días {nombre}, ya sé que tienes {edad} años\")"
   ]
  },
  {
   "cell_type": "code",
   "execution_count": 28,
   "id": "09a5c0b2",
   "metadata": {},
   "outputs": [
    {
     "name": "stdout",
     "output_type": "stream",
     "text": [
      "10/3 es = 3.3333333333333335\n",
      "10/3 es = 3.333\n"
     ]
    }
   ],
   "source": [
    "resultado = 10/3\n",
    "print(f\"10/3 es = {resultado}\")\n",
    "print(f\"10/3 es = {resultado:1.3f}\")"
   ]
  },
  {
   "cell_type": "code",
   "execution_count": null,
   "id": "827108f6",
   "metadata": {},
   "outputs": [],
   "source": []
  }
 ],
 "metadata": {
  "kernelspec": {
   "display_name": "Python 3 (ipykernel)",
   "language": "python",
   "name": "python3"
  },
  "language_info": {
   "codemirror_mode": {
    "name": "ipython",
    "version": 3
   },
   "file_extension": ".py",
   "mimetype": "text/x-python",
   "name": "python",
   "nbconvert_exporter": "python",
   "pygments_lexer": "ipython3",
   "version": "3.9.12"
  }
 },
 "nbformat": 4,
 "nbformat_minor": 5
}
