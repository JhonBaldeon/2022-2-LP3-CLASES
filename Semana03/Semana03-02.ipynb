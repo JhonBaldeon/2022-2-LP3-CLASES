{
 "cells": [
  {
   "cell_type": "markdown",
   "id": "5d772e87",
   "metadata": {},
   "source": [
    "# Semana 03\n",
    "Baldeon Figueroa Jhon Percy"
   ]
  },
  {
   "cell_type": "code",
   "execution_count": 1,
   "id": "18bcaa8e",
   "metadata": {},
   "outputs": [
    {
     "ename": "SyntaxError",
     "evalue": "invalid syntax (4283752842.py, line 1)",
     "output_type": "error",
     "traceback": [
      "\u001b[1;36m  Input \u001b[1;32mIn [1]\u001b[1;36m\u001b[0m\n\u001b[1;33m    Temas: 1. Números\u001b[0m\n\u001b[1;37m              ^\u001b[0m\n\u001b[1;31mSyntaxError\u001b[0m\u001b[1;31m:\u001b[0m invalid syntax\n"
     ]
    }
   ],
   "source": [
    "Temas: 1. Números \n",
    "    2. Variables \n",
    "    3. Manejo de cadenas \n",
    "    4. Ingreso de datos por el teclado \n",
    "    5. Operadores"
   ]
  },
  {
   "cell_type": "markdown",
   "id": "52305d49",
   "metadata": {},
   "source": [
    "Temas: 1. Números \n",
    "    2. Variables \n",
    "    3. Manejo de cadenas \n",
    "    4. Ingreso de datos por el teclado \n",
    "    5. Operadores"
   ]
  },
  {
   "cell_type": "markdown",
   "id": "94ed3d82",
   "metadata": {},
   "source": [
    "2. variables"
   ]
  },
  {
   "cell_type": "code",
   "execution_count": 2,
   "id": "03122c4a",
   "metadata": {},
   "outputs": [],
   "source": [
    "#siempre deben iniciar con una letra o un guión bajo. Ojo nunca con un número o un simbolo"
   ]
  },
  {
   "cell_type": "code",
   "execution_count": 3,
   "id": "83817877",
   "metadata": {},
   "outputs": [
    {
     "data": {
      "text/plain": [
       "41"
      ]
     },
     "execution_count": 3,
     "metadata": {},
     "output_type": "execute_result"
    }
   ],
   "source": [
    "edad = 41\n",
    "edad"
   ]
  },
  {
   "cell_type": "code",
   "execution_count": 4,
   "id": "c43de8c9",
   "metadata": {},
   "outputs": [
    {
     "data": {
      "text/plain": [
       "'Jhon'"
      ]
     },
     "execution_count": 4,
     "metadata": {},
     "output_type": "execute_result"
    }
   ],
   "source": [
    "nombre = \"Jhon\"\n",
    "nombre"
   ]
  },
  {
   "cell_type": "code",
   "execution_count": 5,
   "id": "7db99936",
   "metadata": {},
   "outputs": [
    {
     "data": {
      "text/plain": [
       "'Baldeon Figueroa'"
      ]
     },
     "execution_count": 5,
     "metadata": {},
     "output_type": "execute_result"
    }
   ],
   "source": [
    "apellido = \"Baldeon Figueroa\"\n",
    "apellido"
   ]
  },
  {
   "cell_type": "code",
   "execution_count": 6,
   "id": "fb0c1913",
   "metadata": {},
   "outputs": [
    {
     "data": {
      "text/plain": [
       "'JhonBaldeon Figueroa'"
      ]
     },
     "execution_count": 6,
     "metadata": {},
     "output_type": "execute_result"
    }
   ],
   "source": [
    "nombreCompleto= nombre + apellido\n",
    "nombreCompleto"
   ]
  },
  {
   "cell_type": "code",
   "execution_count": 7,
   "id": "3434d4fd",
   "metadata": {},
   "outputs": [
    {
     "data": {
      "text/plain": [
       "'Jhon Baldeon Figueroa'"
      ]
     },
     "execution_count": 7,
     "metadata": {},
     "output_type": "execute_result"
    }
   ],
   "source": [
    "nombreCompleto = nombre + \" \" + apellido\n",
    "nombreCompleto"
   ]
  },
  {
   "cell_type": "code",
   "execution_count": 8,
   "id": "70778e77",
   "metadata": {},
   "outputs": [
    {
     "data": {
      "text/plain": [
       "int"
      ]
     },
     "execution_count": 8,
     "metadata": {},
     "output_type": "execute_result"
    }
   ],
   "source": [
    "# Para saber el tipo de variable utilizamos la función type()\n",
    "# Ejemplo:\n",
    "numero = 50\n",
    "type(numero)"
   ]
  },
  {
   "cell_type": "code",
   "execution_count": 9,
   "id": "216dcdc2",
   "metadata": {},
   "outputs": [
    {
     "data": {
      "text/plain": [
       "str"
      ]
     },
     "execution_count": 9,
     "metadata": {},
     "output_type": "execute_result"
    }
   ],
   "source": [
    "type(nombre)"
   ]
  },
  {
   "cell_type": "code",
   "execution_count": 10,
   "id": "4db08306",
   "metadata": {},
   "outputs": [
    {
     "data": {
      "text/plain": [
       "1.68"
      ]
     },
     "execution_count": 10,
     "metadata": {},
     "output_type": "execute_result"
    }
   ],
   "source": [
    "talla = 1.68\n",
    "talla"
   ]
  },
  {
   "cell_type": "code",
   "execution_count": 11,
   "id": "eaa114e4",
   "metadata": {},
   "outputs": [
    {
     "data": {
      "text/plain": [
       "float"
      ]
     },
     "execution_count": 11,
     "metadata": {},
     "output_type": "execute_result"
    }
   ],
   "source": [
    "type(talla)"
   ]
  },
  {
   "cell_type": "code",
   "execution_count": 12,
   "id": "4e19168f",
   "metadata": {},
   "outputs": [],
   "source": [
    "#para convertir un numero en cadena\n",
    "numero = 100\n",
    "cadena = str(numero)"
   ]
  },
  {
   "cell_type": "code",
   "execution_count": 13,
   "id": "ecaeacfb",
   "metadata": {},
   "outputs": [
    {
     "data": {
      "text/plain": [
       "'100'"
      ]
     },
     "execution_count": 13,
     "metadata": {},
     "output_type": "execute_result"
    }
   ],
   "source": [
    "cadena"
   ]
  },
  {
   "cell_type": "code",
   "execution_count": 14,
   "id": "2e33eefe",
   "metadata": {},
   "outputs": [
    {
     "data": {
      "text/plain": [
       "str"
      ]
     },
     "execution_count": 14,
     "metadata": {},
     "output_type": "execute_result"
    }
   ],
   "source": [
    "type(cadena)"
   ]
  },
  {
   "cell_type": "code",
   "execution_count": 15,
   "id": "b16b6c02",
   "metadata": {},
   "outputs": [
    {
     "data": {
      "text/plain": [
       "50"
      ]
     },
     "execution_count": 15,
     "metadata": {},
     "output_type": "execute_result"
    }
   ],
   "source": [
    "#para convertir una cadena en un entero utilizamos int()\n",
    "cadena2 = \"50\"\n",
    "numero2 = int(cadena2)\n",
    "numero2"
   ]
  },
  {
   "cell_type": "code",
   "execution_count": 16,
   "id": "144966d4",
   "metadata": {},
   "outputs": [
    {
     "data": {
      "text/plain": [
       "int"
      ]
     },
     "execution_count": 16,
     "metadata": {},
     "output_type": "execute_result"
    }
   ],
   "source": [
    "type(numero2)"
   ]
  },
  {
   "cell_type": "code",
   "execution_count": 17,
   "id": "ebd0cad2",
   "metadata": {},
   "outputs": [
    {
     "data": {
      "text/plain": [
       "50.0"
      ]
     },
     "execution_count": 17,
     "metadata": {},
     "output_type": "execute_result"
    }
   ],
   "source": [
    "#Para convertir una cadena a un decimal utilizamos float()\n",
    "cadena2 = \"50\"\n",
    "numero2 = float(cadena2)\n",
    "numero2"
   ]
  },
  {
   "cell_type": "code",
   "execution_count": 18,
   "id": "80ab5f52",
   "metadata": {},
   "outputs": [
    {
     "data": {
      "text/plain": [
       "float"
      ]
     },
     "execution_count": 18,
     "metadata": {},
     "output_type": "execute_result"
    }
   ],
   "source": [
    "type(numero2)"
   ]
  }
 ],
 "metadata": {
  "kernelspec": {
   "display_name": "Python 3 (ipykernel)",
   "language": "python",
   "name": "python3"
  },
  "language_info": {
   "codemirror_mode": {
    "name": "ipython",
    "version": 3
   },
   "file_extension": ".py",
   "mimetype": "text/x-python",
   "name": "python",
   "nbconvert_exporter": "python",
   "pygments_lexer": "ipython3",
   "version": "3.9.12"
  }
 },
 "nbformat": 4,
 "nbformat_minor": 5
}
